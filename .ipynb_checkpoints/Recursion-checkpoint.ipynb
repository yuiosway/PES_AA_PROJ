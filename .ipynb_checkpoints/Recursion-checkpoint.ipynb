{
 "cells": [
  {
   "cell_type": "code",
   "execution_count": null,
   "id": "b3f45805",
   "metadata": {},
   "outputs": [],
   "source": [
    "import cv2\n",
    "import numpy as np\n",
    "from scipy import ndimage\n",
    "from matplotlib import pyplot as plt\n",
    "import mpl_toolkits.axes_grid1 as axes_grid1\n",
    "from mpl_toolkits.mplot3d import Axes3D\n",
    "from IPython.display import display, HTML\n",
    "display(HTML(\"<style>div.output_scroll { height: 84em; }</style>\"))\n"
   ]
  },
  {
   "cell_type": "code",
   "execution_count": null,
   "id": "bfb86932",
   "metadata": {},
   "outputs": [],
   "source": [
    "path = \"Scale.jpg\"\n",
    "img = cv2.imread(\"Images/\"+path, cv2.IMREAD_GRAYSCALE)\n",
    "print(type(img))\n",
    "N, M = img.shape\n",
    "\n",
    "print(img.shape)\n",
    "plt.imshow(cv2.Canny(img[:1000][0:1000], 100, 200), cmap='gray')\n",
    "\n",
    "plt.show()\n",
    "\n"
   ]
  },
  {
   "cell_type": "code",
   "execution_count": null,
   "id": "47c0fba9",
   "metadata": {},
   "outputs": [],
   "source": [
    "def Canny(img):\n",
    "    M, N = img.shape\n",
    "    m = M//2\n",
    "    n = N//2\n",
    "    \n",
    "    q1 = img[0:m, 0:n]\n",
    "    q2 = img[m:M, 0:n]\n",
    "    q3 = img[0:m, n:N]\n",
    "    q4 = img[m:M, n:N]\n",
    "    \n",
    "    \n",
    "    \n",
    "    if(m<128 and n<128):\n",
    "        a =  cv2.Canny(q1, 100, 100)\n",
    "        b =  cv2.Canny(q2, 100, 100)\n",
    "        c =  cv2.Canny(q3, 100, 100)\n",
    "        d =  cv2.Canny(q4, 100, 100)\n",
    "        top = np.concatenate((a, c), axis=1)\n",
    "        bottom = np.concatenate((b, d), axis=1)\n",
    "        final = np.concatenate((top, bottom), axis=0)\n",
    "        return final\n",
    "    else: \n",
    "        a = Canny(q1)\n",
    "        b = Canny(q2)\n",
    "        c = Canny(q3)\n",
    "        d = Canny(q4)\n",
    "        top = np.concatenate((a, c), axis=1)\n",
    "        bottom = np.concatenate((b, d), axis=1)\n",
    "        final = np.concatenate((top, bottom), axis=0)\n",
    "        return final\n",
    "        \n",
    "    \n",
    "    \n",
    "    "
   ]
  },
  {
   "cell_type": "code",
   "execution_count": null,
   "id": "432cb6cf",
   "metadata": {},
   "outputs": [],
   "source": [
    "path = \"Scale.jpg\"\n",
    "img = cv2.imread(\"Images/\"+path, cv2.IMREAD_GRAYSCALE)\n",
    "print(type(img))\n",
    "print(img.shape)\n",
    "\n",
    "origCanny =  cv2.Canny(img, 100, 100)\n",
    "recursiveCanny = Canny(img)\n",
    "img1024 = cv2.resize(img, (1024 , 1024))\n",
    "resize1024Canny =  cv2.Canny(img1024, 100, 100)\n",
    "img512 = cv2.resize(img, (512 ,512))\n",
    "resize512Canny =  cv2.Canny(img512, 100, 100)\n",
    "img256 = cv2.resize(img, (256 ,256))\n",
    "resize256Canny =  cv2.Canny(img256, 100, 100)\n",
    "img128 = cv2.resize(img, (128 ,128))\n",
    "resize128Canny =  cv2.Canny(img128, 100, 00)\n",
    "titles = [\"origCanny\", \"recursiveCanny\", \"resize1024Canny\", \"resize512Canny\", \"resize256Canny\", \"resize128Canny\"]\n",
    "images = [origCanny, recursiveCanny, resize1024Canny, resize512Canny, resize256Canny, resize128Canny]\n",
    "\n",
    "\n",
    "\n",
    "fig = plt.figure()\n",
    "i = 0\n",
    "\n",
    "for img in images:\n",
    "    plt.imshow(img, cmap='gray')\n",
    "    plt.title(titles[i])\n",
    "    plt.show()\n",
    "    i+=1\n",
    "    \n",
    "\n",
    "\n",
    "    \n"
   ]
  }
 ],
 "metadata": {
  "kernelspec": {
   "display_name": "Python 3 (ipykernel)",
   "language": "python",
   "name": "python3"
  },
  "language_info": {
   "codemirror_mode": {
    "name": "ipython",
    "version": 3
   },
   "file_extension": ".py",
   "mimetype": "text/x-python",
   "name": "python",
   "nbconvert_exporter": "python",
   "pygments_lexer": "ipython3",
   "version": "3.10.8"
  }
 },
 "nbformat": 4,
 "nbformat_minor": 5
}
