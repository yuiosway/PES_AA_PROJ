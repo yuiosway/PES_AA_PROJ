{
 "cells": [
  {
   "cell_type": "code",
   "execution_count": null,
   "id": "9deccc58",
   "metadata": {},
   "outputs": [],
   "source": [
    "import cv2\n",
    "import numpy as np\n",
    "from matplotlib import pyplot as plt\n",
    "\n",
    "# read image\n",
    "img = cv2.imread(\"Images/Cart.jpg\", cv2.IMREAD_GRAYSCALE)\n",
    "plt.imshow(img, cmap=\"gray\")\n",
    "\n",
    "\n",
    "# convert to gray\n",
    "gray = cv2.cvtColor(img, cv2.COLOR_BGR2GRAY)\n",
    "\n",
    "# threshold\n",
    "thresh = cv2.threshold(gray, 180, 255, cv2.THRESH_BINARY)[1]\n",
    "\n",
    "# morphology edgeout = dilated_mask - mask\n",
    "# morphology dilate\n",
    "kernel = cv2.getStructuringElement(cv2.MORPH_RECT, (5,5))\n",
    "dilate = cv2.morphologyEx(thresh, cv2.MORPH_DILATE, kernel)\n",
    "\n",
    "# get absolute difference between dilate and thresh\n",
    "diff = cv2.absdiff(dilate, thresh)\n",
    "\n",
    "# invert\n",
    "edges = 255 - diff\n",
    "\n",
    "# write result to disk\n",
    "\n",
    "\n",
    "fig = plt.figure()\n",
    "plt.imshow(img, cmap=\"gray\")\n",
    "plt.imshow(thresh, cmap=\"gray\")\n",
    "plt.imshow(dilate, cmap=\"gray\")\n",
    "plt.imshow(diff, cmap=\"gray\")\n",
    "plt.imshow(edges, cmap=\"gray\")\n",
    "\n",
    "\n",
    "plt.show()"
   ]
  },
  {
   "cell_type": "code",
   "execution_count": null,
   "id": "c86d91e2",
   "metadata": {},
   "outputs": [],
   "source": []
  },
  {
   "cell_type": "code",
   "execution_count": null,
   "id": "df4f639e",
   "metadata": {},
   "outputs": [],
   "source": [
    "print(1)"
   ]
  },
  {
   "cell_type": "code",
   "execution_count": null,
   "id": "602b264d",
   "metadata": {},
   "outputs": [],
   "source": []
  }
 ],
 "metadata": {
  "kernelspec": {
   "display_name": "Python 3 (ipykernel)",
   "language": "python",
   "name": "python3"
  },
  "language_info": {
   "codemirror_mode": {
    "name": "ipython",
    "version": 3
   },
   "file_extension": ".py",
   "mimetype": "text/x-python",
   "name": "python",
   "nbconvert_exporter": "python",
   "pygments_lexer": "ipython3",
   "version": "3.10.8"
  }
 },
 "nbformat": 4,
 "nbformat_minor": 5
}
